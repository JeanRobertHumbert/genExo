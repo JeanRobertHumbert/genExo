{
 "cells": [
  {
   "cell_type": "code",
   "execution_count": 27,
   "metadata": {},
   "outputs": [],
   "source": [
    "import os,sys\n",
    "import random\n",
    "import unicodedata\n",
    "import numpy as np\n",
    "from sympy import *\n",
    "import matplotlib.pyplot as plt\n",
    "from fractions import Fraction\n",
    "\n",
    "from baseMaths import *"
   ]
  },
  {
   "cell_type": "code",
   "execution_count": 34,
   "metadata": {},
   "outputs": [],
   "source": [
    "class suiteG():\n",
    "\tdef __init__(self, type='A', U0=0, raison=0, k=0, name='u'):\n",
    "\t\t# type = 'A', 'G' ou 'Q'\n",
    "\t\t#       'A' Un = U0+n*raison\n",
    "\t\t#       'G' Un = U0*raison**n\n",
    "\t\t# TODO: 'Q' \n",
    "\t\tself.type = type\n",
    "\t\tself.U0 = U0\n",
    "\t\tself.raison = raison\n",
    "\t\tself.name=name\n",
    "\t\tself.k = k\n",
    "\tdef terme(self, n=0):\n",
    "\t\tif n==0:\n",
    "\t\t\treturn(self.U0)\n",
    "\t\telse:\n",
    "\t\t\tif self.type=='A':\n",
    "\t\t\t\treturn(self.U0+n*self.raison)\n",
    "\t\t\telif self.type=='G':\n",
    "\t\t\t\treturn(self.U0*(self.raison**n))\n",
    "\n",
    "\tdef __str__(self): # retourne la définition récurssive de la suite au format LaTeX\n",
    "\t\tif self.type=='A':\n",
    "\t\t\tif self.raison<0:\n",
    "\t\t\t\treturn(\"$\"+self.name+\"_n=\"+self.name+\"_{n-1}\"+str(self.raison)+\"$\")\n",
    "\t\t\telse:\n",
    "\t\t\t\treturn(\"$\"+self.name+\"_n=\"+self.name+\"_{n-1}+\"+str(self.raison)+\"$\")\n",
    "\t\telif self.type=='G':\n",
    "\t\t\treturn(\"$\"+self.name+\"_n=\"+self.name+\"_{n-1}\\\\times (\"+str(self.raison)+\")$\")\n",
    "\t\tpass"
   ]
  },
  {
   "cell_type": "code",
   "execution_count": 45,
   "metadata": {},
   "outputs": [
    {
     "name": "stdout",
     "output_type": "stream",
     "text": [
      "$v_n=v_{n-1}\\times (1/2)$\n",
      "1/4\n"
     ]
    }
   ],
   "source": [
    "s1 = suiteG(type='G', U0=1, raison=Rational(1,2), name='v')\n",
    "print(s1.__str__())\n",
    "print(s1.terme(n=2))"
   ]
  }
 ],
 "metadata": {
  "kernelspec": {
   "display_name": "Python 3",
   "language": "python",
   "name": "python3"
  },
  "language_info": {
   "codemirror_mode": {
    "name": "ipython",
    "version": 3
   },
   "file_extension": ".py",
   "mimetype": "text/x-python",
   "name": "python",
   "nbconvert_exporter": "python",
   "pygments_lexer": "ipython3",
   "version": "3.11.4"
  }
 },
 "nbformat": 4,
 "nbformat_minor": 2
}
